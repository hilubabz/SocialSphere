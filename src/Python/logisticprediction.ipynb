{
 "cells": [
  {
   "cell_type": "code",
   "execution_count": 1,
   "id": "54edc624",
   "metadata": {},
   "outputs": [],
   "source": [
    "import numpy as np\n",
    "import pickle\n",
    "import re\n",
    "import string\n",
    "\n",
    "def sigmoid(z):\n",
    "\n",
    "    return 1 / (1 + np.exp(-z))\n",
    "\n",
    "def predict_logistic_regression(X, weights, bias):\n",
    "\n",
    "    linear_model = np.dot(X, weights) + bias\n",
    "    y_predicted = sigmoid(linear_model)\n",
    "    y_predicted_cls = [1 if i > 0.5 else 0 for i in y_predicted]\n",
    "    return np.array(y_predicted_cls)\n",
    "\n",
    "def handle_negations(words):\n",
    "\n",
    "    negation_words = {\"not\", \"no\", \"n't\", \"never\"}\n",
    "    processed_words = []\n",
    "    i = 0\n",
    "    while i < len(words):\n",
    "        word = words[i]\n",
    "        if word in negation_words or re.search(r'\\w+n\\'t$', word):\n",
    "            if i + 1 < len(words):\n",
    "                processed_words.append('not_' + words[i+1])\n",
    "                i += 2\n",
    "            else:\n",
    "                processed_words.append(word)\n",
    "                i += 1\n",
    "        else:\n",
    "            processed_words.append(word)\n",
    "            i += 1\n",
    "    return processed_words\n",
    "\n",
    "def preprocess_text(text):\n",
    "\n",
    "    punctuation_to_remove = string.punctuation.replace(\"'\", \"\")\n",
    "    processed_text = text.lower().translate(str.maketrans('', '', punctuation_to_remove))\n",
    "    words = processed_text.split()\n",
    "    return handle_negations(words)\n",
    "\n",
    "def custom_tfidf_vectorizer_transform(tweets, vocabulary, idf_scores):\n",
    "    \"\"\"\n",
    "    Transforms text data into a TF-IDF matrix based on a given vocabulary and IDF scores.\n",
    "    \"\"\"\n",
    "    X = np.zeros((len(tweets), len(vocabulary)))\n",
    "    for i, tweet in enumerate(tweets):\n",
    "        words = preprocess_text(tweet)\n",
    "        doc_word_counts = {}\n",
    "        for word in words:\n",
    "            if word in vocabulary:\n",
    "                doc_word_counts[word] = doc_word_counts.get(word, 0) + 1\n",
    "        \n",
    "        if sum(doc_word_counts.values()) > 0:\n",
    "            for word, count in doc_word_counts.items():\n",
    "                tf = count / sum(doc_word_counts.values())\n",
    "                tfidf = tf * idf_scores.get(word, 0)\n",
    "                X[i, vocabulary[word]] = tfidf\n",
    "    return X"
   ]
  },
  {
   "cell_type": "markdown",
   "id": "f5ddaa72",
   "metadata": {},
   "source": [
    "### 8. Load model parameters and predict new comment"
   ]
  },
  {
   "cell_type": "code",
   "execution_count": null,
   "id": "e3ae7fc2",
   "metadata": {},
   "outputs": [
    {
     "name": "stdout",
     "output_type": "stream",
     "text": [
      "Comment: 'I don't love you'\n",
      "Predicted label: offensive\n"
     ]
    }
   ],
   "source": [
    "def predict_offensive_comment(text, model_path='logistic_regression_tfidf.pkl'):\n",
    "    with open(model_path, 'rb') as f:\n",
    "        data = pickle.load(f)\n",
    "        weights = data['weights']\n",
    "        bias = data['bias']\n",
    "        vocabulary = data['vocabulary']\n",
    "        idf_scores = data['idf_scores']\n",
    "    X_new = custom_tfidf_vectorizer_transform([text], vocabulary, idf_scores)\n",
    "\n",
    "    prediction = predict_logistic_regression(X_new, weights, bias)[0]\n",
    "\n",
    "    return 'offensive' if prediction == 1 else 'not_offensive'\n",
    "\n",
    "\n",
    "new_comment = \"I don't love you\"\n",
    "prediction = predict_offensive_comment(new_comment)\n",
    "print(f\"Comment: '{new_comment}'\\nPredicted label: {prediction}\")\n"
   ]
  }
 ],
 "metadata": {
  "kernelspec": {
   "display_name": "Python 3",
   "language": "python",
   "name": "python3"
  },
  "language_info": {
   "codemirror_mode": {
    "name": "ipython",
    "version": 3
   },
   "file_extension": ".py",
   "mimetype": "text/x-python",
   "name": "python",
   "nbconvert_exporter": "python",
   "pygments_lexer": "ipython3",
   "version": "3.13.3"
  }
 },
 "nbformat": 4,
 "nbformat_minor": 5
}
